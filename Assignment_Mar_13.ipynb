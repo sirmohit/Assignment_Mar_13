{
 "cells": [
  {
   "cell_type": "markdown",
   "id": "46d7b27f",
   "metadata": {},
   "source": [
    "Q1. Explain the assumptions required to use ANOVA and provide examples of violations that could impact\n",
    "the validity of the results."
   ]
  },
  {
   "cell_type": "markdown",
   "id": "be3843fe",
   "metadata": {},
   "source": [
    "Ans:\n",
    "    \n",
    "    Analysis of Variance (ANOVA) is a statistical technique used to compare means among multiple groups. To ensure the\n",
    "    validity of ANOVA results, certain assumptions must be met. These assumptions include:\n",
    "\n",
    "    Normality: The data within each group should be normally distributed. However, ANOVA is robust to violations of \n",
    "        \n",
    "        normality, especially when sample sizes are large.\n",
    "\n",
    "    Violation Example: If the data within one or more groups significantly deviates from a normal distribution, it can \n",
    "        affect the accuracy of ANOVA results. This can be checked using normality tests or visual inspection of Q-Q plots.\n",
    "        \n",
    "    Homogeneity of Variances (Homoscedasticity): The variances of the groups should be roughly equal. This assumption is\n",
    "        important for the validity of ANOVA results.\n",
    "\n",
    "    Violation Example: If the variances are significantly different between groups, it can lead to inflated Type I error \n",
    "        rates. A common way to check homogeneity of variances is to use Levene's test or Barlett's test.\n",
    "    "
   ]
  },
  {
   "cell_type": "markdown",
   "id": "b755ae1e",
   "metadata": {},
   "source": [
    "Q2. What are the three types of ANOVA, and in what situations would each be used?"
   ]
  },
  {
   "cell_type": "markdown",
   "id": "35ca809a",
   "metadata": {},
   "source": [
    "Ans:\n",
    "    \n",
    "    Analysis of Variance (ANOVA) is a statistical technique used to compare means among multiple groups. There are three\n",
    "    main types of ANOVA, each designed for different situations:\n",
    "\n",
    "    One-Way ANOVA:\n",
    "\n",
    "    Use Case: When comparing means across two or more independent groups.\n",
    "    Situation: You have one independent variable with two or more levels (groups) and a continuous dependent variable.\n",
    "    Example: Investigating whether there is a significant difference in test scores among students taught by different \n",
    "        teachers.\n",
    "        \n",
    "    Two-Way ANOVA:\n",
    "\n",
    "    Use Case: When there are two independent variables and their combined effect on the dependent variable needs to be\n",
    "        assessed.\n",
    "    Situation: You have two independent variables, and both are categorical. The interaction between these variables is\n",
    "        also examined.\n",
    "    Example: Studying the effects of both teaching method and gender on test scores. This allows you to investigate not\n",
    "        only the main effects of teaching method and gender but also whether there is an interaction effect.\n",
    "        \n",
    "    Repeated Measures ANOVA:\n",
    "\n",
    "    Use Case: When measurements are taken on the same group or individual at multiple points in time or under different \n",
    "        conditions.\n",
    "    Situation: You have a single group of subjects, and each subject is measured under multiple conditions or at different\n",
    "        time points.\n",
    "    Example: Assessing the effectiveness of a drug by measuring patients' blood pressure before treatment, during treatment,\n",
    "        and after treatment.\n"
   ]
  },
  {
   "cell_type": "markdown",
   "id": "a4e90661",
   "metadata": {},
   "source": [
    "Q3. What is the partitioning of variance in ANOVA, and why is it important to understand this concept?"
   ]
  },
  {
   "cell_type": "markdown",
   "id": "ba7b41ac",
   "metadata": {},
   "source": [
    "Ans:\n",
    "    \n",
    "    \n",
    "    The partitioning of variance in Analysis of Variance (ANOVA) refers to the decomposition of the total variance observed in the data into different components, each associated with specific sources of variation. Understanding this concept is crucial for interpreting ANOVA results and gaining insights into the relative contributions of different factors to the overall variability in the data.\n",
    "\n",
    "    Understanding the partitioning of variance is important for several reasons:\n",
    "\n",
    "    Hypothesis Testing: ANOVA tests the null hypothesis that all group means are equal. By partitioning the variance, ANOVA helps assess whether the observed differences among group means are statistically significant or if they could occur due to random chance.\n",
    "\n",
    "    Effect Size: The ratio of between-group variability to within-group variability (F-statistic) provides a measure of effect size. A larger F-statistic suggests a stronger effect of the independent variable on the dependent variable.\n",
    "\n",
    "    Model Understanding: Partitioning variance helps researchers understand the relative importance of different factors or treatments in explaining the overall variability in the data.\n"
   ]
  },
  {
   "cell_type": "markdown",
   "id": "cfb0c5ea",
   "metadata": {},
   "source": [
    "Q4. How would you calculate the total sum of squares (SST), explained sum of squares (SSE), and residual\n",
    "sum of squares (SSR) in a one-way ANOVA using Python?"
   ]
  },
  {
   "cell_type": "code",
   "execution_count": 1,
   "id": "bb78dcba",
   "metadata": {},
   "outputs": [
    {
     "ename": "ValueError",
     "evalue": "Length mismatch: Expected axis has 3 elements, new values have 2 elements",
     "output_type": "error",
     "traceback": [
      "\u001b[1;31m---------------------------------------------------------------------------\u001b[0m",
      "\u001b[1;31mValueError\u001b[0m                                Traceback (most recent call last)",
      "\u001b[1;32m~\\AppData\\Local\\Temp\\ipykernel_7120\\2749520542.py\u001b[0m in \u001b[0;36m<module>\u001b[1;34m\u001b[0m\n\u001b[0;32m     15\u001b[0m \u001b[1;31m# Reshape the data for ANOVA\u001b[0m\u001b[1;33m\u001b[0m\u001b[1;33m\u001b[0m\u001b[0m\n\u001b[0;32m     16\u001b[0m \u001b[0mstacked_data\u001b[0m \u001b[1;33m=\u001b[0m \u001b[0mdf\u001b[0m\u001b[1;33m.\u001b[0m\u001b[0mstack\u001b[0m\u001b[1;33m(\u001b[0m\u001b[1;33m)\u001b[0m\u001b[1;33m.\u001b[0m\u001b[0mreset_index\u001b[0m\u001b[1;33m(\u001b[0m\u001b[1;33m)\u001b[0m\u001b[1;33m\u001b[0m\u001b[1;33m\u001b[0m\u001b[0m\n\u001b[1;32m---> 17\u001b[1;33m \u001b[0mstacked_data\u001b[0m\u001b[1;33m.\u001b[0m\u001b[0mcolumns\u001b[0m \u001b[1;33m=\u001b[0m \u001b[1;33m[\u001b[0m\u001b[1;34m'Group'\u001b[0m\u001b[1;33m,\u001b[0m \u001b[1;34m'Value'\u001b[0m\u001b[1;33m]\u001b[0m\u001b[1;33m\u001b[0m\u001b[1;33m\u001b[0m\u001b[0m\n\u001b[0m\u001b[0;32m     18\u001b[0m \u001b[1;33m\u001b[0m\u001b[0m\n\u001b[0;32m     19\u001b[0m \u001b[1;31m# Fit the one-way ANOVA model\u001b[0m\u001b[1;33m\u001b[0m\u001b[1;33m\u001b[0m\u001b[0m\n",
      "\u001b[1;32m~\\anaconda3\\lib\\site-packages\\pandas\\core\\generic.py\u001b[0m in \u001b[0;36m__setattr__\u001b[1;34m(self, name, value)\u001b[0m\n\u001b[0;32m   5586\u001b[0m         \u001b[1;32mtry\u001b[0m\u001b[1;33m:\u001b[0m\u001b[1;33m\u001b[0m\u001b[1;33m\u001b[0m\u001b[0m\n\u001b[0;32m   5587\u001b[0m             \u001b[0mobject\u001b[0m\u001b[1;33m.\u001b[0m\u001b[0m__getattribute__\u001b[0m\u001b[1;33m(\u001b[0m\u001b[0mself\u001b[0m\u001b[1;33m,\u001b[0m \u001b[0mname\u001b[0m\u001b[1;33m)\u001b[0m\u001b[1;33m\u001b[0m\u001b[1;33m\u001b[0m\u001b[0m\n\u001b[1;32m-> 5588\u001b[1;33m             \u001b[1;32mreturn\u001b[0m \u001b[0mobject\u001b[0m\u001b[1;33m.\u001b[0m\u001b[0m__setattr__\u001b[0m\u001b[1;33m(\u001b[0m\u001b[0mself\u001b[0m\u001b[1;33m,\u001b[0m \u001b[0mname\u001b[0m\u001b[1;33m,\u001b[0m \u001b[0mvalue\u001b[0m\u001b[1;33m)\u001b[0m\u001b[1;33m\u001b[0m\u001b[1;33m\u001b[0m\u001b[0m\n\u001b[0m\u001b[0;32m   5589\u001b[0m         \u001b[1;32mexcept\u001b[0m \u001b[0mAttributeError\u001b[0m\u001b[1;33m:\u001b[0m\u001b[1;33m\u001b[0m\u001b[1;33m\u001b[0m\u001b[0m\n\u001b[0;32m   5590\u001b[0m             \u001b[1;32mpass\u001b[0m\u001b[1;33m\u001b[0m\u001b[1;33m\u001b[0m\u001b[0m\n",
      "\u001b[1;32m~\\anaconda3\\lib\\site-packages\\pandas\\_libs\\properties.pyx\u001b[0m in \u001b[0;36mpandas._libs.properties.AxisProperty.__set__\u001b[1;34m()\u001b[0m\n",
      "\u001b[1;32m~\\anaconda3\\lib\\site-packages\\pandas\\core\\generic.py\u001b[0m in \u001b[0;36m_set_axis\u001b[1;34m(self, axis, labels)\u001b[0m\n\u001b[0;32m    767\u001b[0m     \u001b[1;32mdef\u001b[0m \u001b[0m_set_axis\u001b[0m\u001b[1;33m(\u001b[0m\u001b[0mself\u001b[0m\u001b[1;33m,\u001b[0m \u001b[0maxis\u001b[0m\u001b[1;33m:\u001b[0m \u001b[0mint\u001b[0m\u001b[1;33m,\u001b[0m \u001b[0mlabels\u001b[0m\u001b[1;33m:\u001b[0m \u001b[0mIndex\u001b[0m\u001b[1;33m)\u001b[0m \u001b[1;33m->\u001b[0m \u001b[1;32mNone\u001b[0m\u001b[1;33m:\u001b[0m\u001b[1;33m\u001b[0m\u001b[1;33m\u001b[0m\u001b[0m\n\u001b[0;32m    768\u001b[0m         \u001b[0mlabels\u001b[0m \u001b[1;33m=\u001b[0m \u001b[0mensure_index\u001b[0m\u001b[1;33m(\u001b[0m\u001b[0mlabels\u001b[0m\u001b[1;33m)\u001b[0m\u001b[1;33m\u001b[0m\u001b[1;33m\u001b[0m\u001b[0m\n\u001b[1;32m--> 769\u001b[1;33m         \u001b[0mself\u001b[0m\u001b[1;33m.\u001b[0m\u001b[0m_mgr\u001b[0m\u001b[1;33m.\u001b[0m\u001b[0mset_axis\u001b[0m\u001b[1;33m(\u001b[0m\u001b[0maxis\u001b[0m\u001b[1;33m,\u001b[0m \u001b[0mlabels\u001b[0m\u001b[1;33m)\u001b[0m\u001b[1;33m\u001b[0m\u001b[1;33m\u001b[0m\u001b[0m\n\u001b[0m\u001b[0;32m    770\u001b[0m         \u001b[0mself\u001b[0m\u001b[1;33m.\u001b[0m\u001b[0m_clear_item_cache\u001b[0m\u001b[1;33m(\u001b[0m\u001b[1;33m)\u001b[0m\u001b[1;33m\u001b[0m\u001b[1;33m\u001b[0m\u001b[0m\n\u001b[0;32m    771\u001b[0m \u001b[1;33m\u001b[0m\u001b[0m\n",
      "\u001b[1;32m~\\anaconda3\\lib\\site-packages\\pandas\\core\\internals\\managers.py\u001b[0m in \u001b[0;36mset_axis\u001b[1;34m(self, axis, new_labels)\u001b[0m\n\u001b[0;32m    212\u001b[0m     \u001b[1;32mdef\u001b[0m \u001b[0mset_axis\u001b[0m\u001b[1;33m(\u001b[0m\u001b[0mself\u001b[0m\u001b[1;33m,\u001b[0m \u001b[0maxis\u001b[0m\u001b[1;33m:\u001b[0m \u001b[0mint\u001b[0m\u001b[1;33m,\u001b[0m \u001b[0mnew_labels\u001b[0m\u001b[1;33m:\u001b[0m \u001b[0mIndex\u001b[0m\u001b[1;33m)\u001b[0m \u001b[1;33m->\u001b[0m \u001b[1;32mNone\u001b[0m\u001b[1;33m:\u001b[0m\u001b[1;33m\u001b[0m\u001b[1;33m\u001b[0m\u001b[0m\n\u001b[0;32m    213\u001b[0m         \u001b[1;31m# Caller is responsible for ensuring we have an Index object.\u001b[0m\u001b[1;33m\u001b[0m\u001b[1;33m\u001b[0m\u001b[0m\n\u001b[1;32m--> 214\u001b[1;33m         \u001b[0mself\u001b[0m\u001b[1;33m.\u001b[0m\u001b[0m_validate_set_axis\u001b[0m\u001b[1;33m(\u001b[0m\u001b[0maxis\u001b[0m\u001b[1;33m,\u001b[0m \u001b[0mnew_labels\u001b[0m\u001b[1;33m)\u001b[0m\u001b[1;33m\u001b[0m\u001b[1;33m\u001b[0m\u001b[0m\n\u001b[0m\u001b[0;32m    215\u001b[0m         \u001b[0mself\u001b[0m\u001b[1;33m.\u001b[0m\u001b[0maxes\u001b[0m\u001b[1;33m[\u001b[0m\u001b[0maxis\u001b[0m\u001b[1;33m]\u001b[0m \u001b[1;33m=\u001b[0m \u001b[0mnew_labels\u001b[0m\u001b[1;33m\u001b[0m\u001b[1;33m\u001b[0m\u001b[0m\n\u001b[0;32m    216\u001b[0m \u001b[1;33m\u001b[0m\u001b[0m\n",
      "\u001b[1;32m~\\anaconda3\\lib\\site-packages\\pandas\\core\\internals\\base.py\u001b[0m in \u001b[0;36m_validate_set_axis\u001b[1;34m(self, axis, new_labels)\u001b[0m\n\u001b[0;32m     67\u001b[0m \u001b[1;33m\u001b[0m\u001b[0m\n\u001b[0;32m     68\u001b[0m         \u001b[1;32melif\u001b[0m \u001b[0mnew_len\u001b[0m \u001b[1;33m!=\u001b[0m \u001b[0mold_len\u001b[0m\u001b[1;33m:\u001b[0m\u001b[1;33m\u001b[0m\u001b[1;33m\u001b[0m\u001b[0m\n\u001b[1;32m---> 69\u001b[1;33m             raise ValueError(\n\u001b[0m\u001b[0;32m     70\u001b[0m                 \u001b[1;34mf\"Length mismatch: Expected axis has {old_len} elements, new \"\u001b[0m\u001b[1;33m\u001b[0m\u001b[1;33m\u001b[0m\u001b[0m\n\u001b[0;32m     71\u001b[0m                 \u001b[1;34mf\"values have {new_len} elements\"\u001b[0m\u001b[1;33m\u001b[0m\u001b[1;33m\u001b[0m\u001b[0m\n",
      "\u001b[1;31mValueError\u001b[0m: Length mismatch: Expected axis has 3 elements, new values have 2 elements"
     ]
    }
   ],
   "source": [
    "import numpy as np\n",
    "import pandas as pd\n",
    "import statsmodels.api as sm\n",
    "from statsmodels.formula.api import ols\n",
    "\n",
    "# Sample data (replace this with your own dataset)\n",
    "data = {\n",
    "    'Group1': [5, 8, 7, 4, 6],\n",
    "    'Group2': [10, 12, 8, 11, 9],\n",
    "    'Group3': [15, 14, 13, 17, 16]\n",
    "}\n",
    "\n",
    "df = pd.DataFrame(data)\n",
    "\n",
    "# Reshape the data for ANOVA\n",
    "stacked_data = df.stack().reset_index()\n",
    "stacked_data.columns = ['Group', 'Value']\n",
    "\n",
    "# Fit the one-way ANOVA model\n",
    "model = ols('Value ~ C(Group)', data=stacked_data).fit()\n",
    "\n",
    "# Extract ANOVA table\n",
    "anova_table = sm.stats.anova_lm(model, typ=2)\n",
    "\n",
    "# Extract sum of squares values from the ANOVA table\n",
    "SST = anova_table['sum_sq'].sum()\n",
    "SSE = anova_table['sum_sq'][0]  # Explained sum of squares\n",
    "SSR = anova_table['sum_sq'][1]  # Residual sum of squares\n",
    "\n",
    "# Display the results\n",
    "print(\"Total Sum of Squares (SST):\", SST)\n",
    "print(\"Explained Sum of Squares (SSE):\", SSE)\n",
    "print(\"Residual Sum of Squares (SSR):\", SSR)\n"
   ]
  },
  {
   "cell_type": "markdown",
   "id": "e7831903",
   "metadata": {},
   "source": [
    "Q5. In a two-way ANOVA, how would you calculate the main effects and interaction effects using Python?"
   ]
  },
  {
   "cell_type": "code",
   "execution_count": 2,
   "id": "92b42373",
   "metadata": {},
   "outputs": [
    {
     "name": "stdout",
     "output_type": "stream",
     "text": [
      "Main Effect of A: 72.17330210772843\n",
      "Main Effect of B: 0.031615925058546476\n",
      "Interaction Effect: 1.0\n"
     ]
    }
   ],
   "source": [
    "import pandas as pd\n",
    "import statsmodels.api as sm\n",
    "from statsmodels.formula.api import ols\n",
    "\n",
    "# Example data\n",
    "data = {'A': ['A1']*5 + ['A2']*5 + ['A3']*5,\n",
    "        'B': ['B1', 'B2', 'B1', 'B2', 'B1']*3,\n",
    "        'Value': [10, 12, 14, 16, 18, 25, 30, 28, 35, 32, 45, 40, 38, 42, 48]}\n",
    "\n",
    "df = pd.DataFrame(data)\n",
    "\n",
    "# Fit the two-way ANOVA model\n",
    "formula = 'Value ~ A + B + A:B'\n",
    "model = ols(formula, df).fit()\n",
    "anova_table = sm.stats.anova_lm(model, typ=2)\n",
    "\n",
    "# Extract main effects and interaction effects\n",
    "main_effect_A = anova_table.loc['A', 'sum_sq'] / anova_table.loc['A:B', 'sum_sq']\n",
    "main_effect_B = anova_table.loc['B', 'sum_sq'] / anova_table.loc['A:B', 'sum_sq']\n",
    "interaction_effect = anova_table.loc['A:B', 'sum_sq'] / anova_table.loc['A:B', 'sum_sq']\n",
    "\n",
    "# Print the results\n",
    "print(\"Main Effect of A:\", main_effect_A)\n",
    "print(\"Main Effect of B:\", main_effect_B)\n",
    "print(\"Interaction Effect:\", interaction_effect)\n"
   ]
  },
  {
   "cell_type": "markdown",
   "id": "2d79d634",
   "metadata": {},
   "source": [
    "Q6. Suppose you conducted a one-way ANOVA and obtained an F-statistic of 5.23 and a p-value of 0.02.\n",
    "What can you conclude about the differences between the groups, and how would you interpret these\n",
    "results?"
   ]
  },
  {
   "cell_type": "markdown",
   "id": "e4043022",
   "metadata": {},
   "source": [
    "ANs:\n",
    "    \n",
    "    In a one-way ANOVA, the F-statistic is used to test whether there are significant differences among the means of three\n",
    "    or more groups. The associated p-value helps determine the statistical significance of these differences. Here's how\n",
    "    to interpret the results:\n",
    "\n",
    "    F-Statistic: The F-statistic is a ratio of the variance between group means to the variance within groups. In your case,\n",
    "        the F-statistic is 5.23.\n",
    "\n",
    "    P-value: The p-value associated with the F-statistic indicates the probability of obtaining such a result \n",
    "        (or more extreme) if the null hypothesis is true. In your case, the p-value is 0.02.\n",
    "\n",
    "    Now, let's interpret the results:\n",
    "\n",
    "    Null Hypothesis (H0): The null hypothesis typically states that there are no significant differences among the\n",
    "        group means.\n",
    "\n",
    "    Alternative Hypothesis (H1): The alternative hypothesis suggests that there are significant differences among the\n",
    "        group means.\n",
    "\n",
    "    Interpretation:\n",
    "\n",
    "    If the p-value is less than the chosen significance level (commonly 0.05), you would reject the null hypothesis.\n",
    "    If the p-value is greater than the significance level, you would fail to reject the null hypothesis.\n",
    "    In your case:\n",
    "\n",
    "    The p-value is 0.02, which is less than the common significance level of 0.05.\n",
    "    Therefore, you would reject the null hypothesis."
   ]
  },
  {
   "cell_type": "markdown",
   "id": "41a07fee",
   "metadata": {},
   "source": [
    "Q7. In a repeated measures ANOVA, how would you handle missing data, and what are the potential\n",
    "consequences of using different methods to handle missing data?"
   ]
  },
  {
   "cell_type": "markdown",
   "id": "f3cca62a",
   "metadata": {},
   "source": [
    "Ans:\n",
    "   \n",
    "    Pairwise Deletion:\n",
    "\n",
    "    Method: Analyzing only the available data points for each subject, resulting in varying sample sizes across subjects.\n",
    "    Consequences:\n",
    "    Easy to implement.\n",
    "    May lead to biased results if the missing data is not missing completely at random (MCAR).\n",
    "    Reduction in statistical power, especially when the proportion of missing data is substantial.\n",
    "    \n",
    "    Mean Imputation:\n",
    "\n",
    "    Method: Replace missing values with the mean of the observed values for that variable.\n",
    "    Consequences:\n",
    "    Preserves the sample size.\n",
    "    Can introduce bias, especially if the missing data is related to specific conditions or time points.\n",
    "    Reduces variability, potentially leading to an underestimation of standard errors and inflated Type I error rates.\n",
    "    Last Observation Carried Forward (LOCF) or Next Observation Carried Backward (NOCB):\n",
    "\n",
    "    Method: Impute missing values with the last (or next) observed value for that subject.\n",
    "    Consequences:\n",
    "    Assumes a constant trajectory between observed time points.\n",
    "    Can be inappropriate if the assumption of a constant trajectory is violated.\n",
    "    May introduce bias, especially if the last (or next) observation is not a good representation of the missing value.\n",
    "    \n",
    "    Linear Interpolation:\n",
    "\n",
    "    Method: Estimate missing values based on the linear interpolation between adjacent observed time points.\n",
    "    Consequences:\n",
    "    Assumes a linear trend between observed time points.\n",
    "    Appropriate for continuous data with a linear trend but may not be suitable for all types of data.\n",
    "   "
   ]
  },
  {
   "cell_type": "markdown",
   "id": "289cc830",
   "metadata": {},
   "source": [
    "Q8. What are some common post-hoc tests used after ANOVA, and when would you use each one? Provide\n",
    "an example of a situation where a post-hoc test might be necessary."
   ]
  },
  {
   "cell_type": "markdown",
   "id": "d23f1a9d",
   "metadata": {},
   "source": [
    "Ans:\n",
    "    \n",
    "    Post-hoc tests are used in analysis of variance (ANOVA) when the omnibus ANOVA test indicates a significant\n",
    "    difference among groups. These tests help identify specific group differences when there are more than two groups.\n",
    "    Here are some common post-hoc tests and situations where each might be appropriate:\n",
    "\n",
    "    Tukey's Honestly Significant Difference (HSD):\n",
    "\n",
    "    Use Case: When there are multiple groups, and you want to compare all possible pairs of means.\n",
    "    Example Situation: In a study comparing the effectiveness of three different teaching methods, Tukey's HSD can be used\n",
    "        to identify which pairs of teaching methods have significantly different mean scores.\n",
    "    Bonferroni Correction:\n",
    "\n",
    "    Use Case: When conducting multiple pairwise comparisons and aiming to control the familywise error rate.\n",
    "    Example Situation: In a medical trial with multiple treatment groups, Bonferroni correction can be applied to adjust \n",
    "        the significance level for multiple comparisons, reducing the risk of Type I errors.\n",
    "    Scheffé's Test:\n",
    "\n",
    "    Use Case: When there are unequal group sizes and you want to control the familywise error rate.\n",
    "    Example Situation: In a study comparing the performance of different software programs with unequal sample sizes,\n",
    "        Scheffé's test can be used to assess pairwise differences while adjusting for unequal group sizes.\n",
    "    Dunnett's Test:\n",
    "\n",
    "    Use Case: When there is a control group and you want to compare the treatment groups to the control group.\n",
    "    Example Situation: In a clinical trial with a control group and multiple experimental treatments, Dunnett's test can\n",
    "        be used to compare each treatment group to the control group while controlling for the overall Type I error rate.\n",
    "   \n",
    "\n",
    "\n",
    "\n",
    "\n",
    "\n"
   ]
  },
  {
   "cell_type": "markdown",
   "id": "e5c89701",
   "metadata": {},
   "source": [
    "Q9. A researcher wants to compare the mean weight loss of three diets: A, B, and C. They collect data from\n",
    "50 participants who were randomly assigned to one of the diets. Conduct a one-way ANOVA using Python\n",
    "to determine if there are any significant differences between the mean weight loss of the three diets.\n",
    "Report the F-statistic and p-value, and interpret the results."
   ]
  },
  {
   "cell_type": "code",
   "execution_count": 3,
   "id": "30892aa8",
   "metadata": {},
   "outputs": [
    {
     "name": "stdout",
     "output_type": "stream",
     "text": [
      "F-statistic: 16.5742\n",
      "P-value: 0.0000\n",
      "Reject the null hypothesis. There are significant differences between the mean weight loss of the three diets.\n"
     ]
    }
   ],
   "source": [
    "import scipy.stats as stats\n",
    "import numpy as np\n",
    "\n",
    "# Example data\n",
    "np.random.seed(42)  # for reproducibility\n",
    "weight_loss_A = np.random.normal(5, 2, 50)  # mean=5, std=2\n",
    "weight_loss_B = np.random.normal(6, 2, 50)  # mean=6, std=2\n",
    "weight_loss_C = np.random.normal(4, 2, 50)  # mean=4, std=2\n",
    "\n",
    "# Combine data into a single array\n",
    "all_data = np.concatenate([weight_loss_A, weight_loss_B, weight_loss_C])\n",
    "\n",
    "# Create group labels\n",
    "group_labels = ['A'] * 50 + ['B'] * 50 + ['C'] * 50\n",
    "\n",
    "# Perform one-way ANOVA\n",
    "f_statistic, p_value = stats.f_oneway(weight_loss_A, weight_loss_B, weight_loss_C)\n",
    "\n",
    "# Print the results\n",
    "print(f\"F-statistic: {f_statistic:.4f}\")\n",
    "print(f\"P-value: {p_value:.4f}\")\n",
    "\n",
    "# Interpret the results\n",
    "alpha = 0.05\n",
    "if p_value < alpha:\n",
    "    print(\"Reject the null hypothesis. There are significant differences between the mean weight loss of the three diets.\")\n",
    "else:\n",
    "    print(\"Fail to reject the null hypothesis. There is no significant difference between the mean weight loss of the three diets.\")\n"
   ]
  },
  {
   "cell_type": "markdown",
   "id": "3cd533f1",
   "metadata": {},
   "source": [
    "Q10. A company wants to know if there are any significant differences in the average time it takes to\n",
    "complete a task using three different software programs: Program A, Program B, and Program C. They\n",
    "randomly assign 30 employees to one of the programs and record the time it takes each employee to\n",
    "complete the task. Conduct a two-way ANOVA using Python to determine if there are any main effects or\n",
    "interaction effects between the software programs and employee experience level (novice vs.\n",
    "experienced). Report the F-statistics and p-values, and interpret the results."
   ]
  },
  {
   "cell_type": "code",
   "execution_count": 4,
   "id": "c8e6a5ec",
   "metadata": {},
   "outputs": [
    {
     "name": "stdout",
     "output_type": "stream",
     "text": [
      "                        sum_sq    df         F    PR(>F)\n",
      "Program               2.514772   2.0  0.344485  0.709581\n",
      "Experience            0.479063   1.0  0.131248  0.718051\n",
      "Program:Experience    1.592393   2.0  0.218133  0.804472\n",
      "Residual            306.603758  84.0       NaN       NaN\n"
     ]
    }
   ],
   "source": [
    "import pandas as pd\n",
    "import statsmodels.api as sm\n",
    "from statsmodels.formula.api import ols\n",
    "\n",
    "# Example data\n",
    "np.random.seed(42)  # for reproducibility\n",
    "data = {'Time': np.random.normal(loc=10, scale=2, size=90),\n",
    "        'Program': np.repeat(['A', 'B', 'C'], 30),\n",
    "        'Experience': np.tile(['Novice', 'Experienced'], 45)}\n",
    "\n",
    "df = pd.DataFrame(data)\n",
    "\n",
    "# Fit the two-way ANOVA model\n",
    "formula = 'Time ~ Program + Experience + Program:Experience'\n",
    "model = ols(formula, df).fit()\n",
    "anova_table = sm.stats.anova_lm(model, typ=2)\n",
    "\n",
    "# Print the results\n",
    "print(anova_table)\n"
   ]
  },
  {
   "cell_type": "markdown",
   "id": "f4250531",
   "metadata": {},
   "source": [
    "Q11. An educational researcher is interested in whether a new teaching method improves student test\n",
    "scores. They randomly assign 100 students to either the control group (traditional teaching method) or the\n",
    "experimental group (new teaching method) and administer a test at the end of the semester. Conduct a\n",
    "two-sample t-test using Python to determine if there are any significant differences in test scores\n",
    "between the two groups. If the results are significant, follow up with a post-hoc test to determine which\n",
    "group(s) differ significantly from each other."
   ]
  },
  {
   "cell_type": "code",
   "execution_count": 5,
   "id": "96b321eb",
   "metadata": {},
   "outputs": [
    {
     "name": "stdout",
     "output_type": "stream",
     "text": [
      "Two-Sample t-Test:\n",
      "T-statistic: -4.1087\n",
      "P-value: 0.0001\n",
      "The difference in test scores between the two groups is statistically significant.\n",
      "\n",
      "Post-Hoc (Tukey's HSD) Test:\n",
      "   Multiple Comparison of Means - Tukey HSD, FWER=0.05    \n",
      "==========================================================\n",
      " group1    group2    meandiff p-adj  lower   upper  reject\n",
      "----------------------------------------------------------\n",
      "Control Experimental   7.4325 0.0001 3.8427 11.0224   True\n",
      "----------------------------------------------------------\n"
     ]
    }
   ],
   "source": [
    "import numpy as np\n",
    "import pandas as pd\n",
    "import scipy.stats as stats\n",
    "from statsmodels.stats.multicomp import pairwise_tukeyhsd\n",
    "\n",
    "# Example data\n",
    "np.random.seed(42)  # for reproducibility\n",
    "control_group = np.random.normal(loc=70, scale=10, size=50)\n",
    "experimental_group = np.random.normal(loc=75, scale=10, size=50)\n",
    "\n",
    "# Perform two-sample t-test\n",
    "t_statistic, p_value = stats.ttest_ind(control_group, experimental_group)\n",
    "\n",
    "# Print the results of the t-test\n",
    "print(f\"Two-Sample t-Test:\")\n",
    "print(f\"T-statistic: {t_statistic:.4f}\")\n",
    "print(f\"P-value: {p_value:.4f}\")\n",
    "\n",
    "# Check if the results are significant (using a common alpha level of 0.05)\n",
    "if p_value < 0.05:\n",
    "    print(\"The difference in test scores between the two groups is statistically significant.\")\n",
    "    \n",
    "    # Perform post-hoc test (Tukey's HSD)\n",
    "    all_data = np.concatenate([control_group, experimental_group])\n",
    "    group_labels = ['Control'] * len(control_group) + ['Experimental'] * len(experimental_group)\n",
    "\n",
    "    df_posthoc = pd.DataFrame({'Data': all_data, 'Group': group_labels})\n",
    "    posthoc_result = pairwise_tukeyhsd(df_posthoc['Data'], df_posthoc['Group'])\n",
    "\n",
    "    # Print post-hoc results\n",
    "    print(\"\\nPost-Hoc (Tukey's HSD) Test:\")\n",
    "    print(posthoc_result)\n",
    "else:\n",
    "    print(\"There is no significant difference in test scores between the two groups.\")\n"
   ]
  },
  {
   "cell_type": "markdown",
   "id": "15e16406",
   "metadata": {},
   "source": [
    "Q12. A researcher wants to know if there are any significant differences in the average daily sales of three\n",
    "retail stores: Store A, Store B, and Store C. They randomly select 30 days and record the sales for each store\n",
    "on those days. Conduct a repeated measures ANOVA using Python to determine if there are any\n",
    "\n",
    "significant differences in sales between the three stores. If the results are significant, follow up with a post-\n",
    "hoc test to determine which store(s) differ significantly from each other."
   ]
  },
  {
   "cell_type": "code",
   "execution_count": 6,
   "id": "aafca539",
   "metadata": {},
   "outputs": [
    {
     "name": "stdout",
     "output_type": "stream",
     "text": [
      "One-Way ANOVA:\n",
      "F-statistic: 15.6747\n",
      "P-value: 0.0000\n",
      "The difference in daily sales between the three stores is statistically significant.\n",
      "\n",
      "Post-Hoc (Tukey's HSD) Test:\n",
      " Multiple Comparison of Means - Tukey HSD, FWER=0.05  \n",
      "======================================================\n",
      "group1 group2 meandiff p-adj   lower    upper   reject\n",
      "------------------------------------------------------\n",
      "     A      B  53.3492 0.0001  24.3572  82.3413   True\n",
      "     A      C  -9.9484 0.6928 -38.9405  19.0437  False\n",
      "     B      C -63.2976    0.0 -92.2897 -34.3056   True\n",
      "------------------------------------------------------\n"
     ]
    }
   ],
   "source": [
    "import numpy as np\n",
    "import scipy.stats as stats\n",
    "\n",
    "# Example data\n",
    "np.random.seed(42)  # for reproducibility\n",
    "sales_A = np.random.normal(loc=500, scale=50, size=30)\n",
    "sales_B = np.random.normal(loc=550, scale=50, size=30)\n",
    "sales_C = np.random.normal(loc=480, scale=50, size=30)\n",
    "\n",
    "# Combine data into a single array\n",
    "all_sales = np.concatenate([sales_A, sales_B, sales_C])\n",
    "\n",
    "# Create group labels\n",
    "group_labels = ['A'] * 30 + ['B'] * 30 + ['C'] * 30\n",
    "\n",
    "# Perform one-way ANOVA\n",
    "f_statistic, p_value = stats.f_oneway(sales_A, sales_B, sales_C)\n",
    "\n",
    "# Print the results of the ANOVA\n",
    "print(f\"One-Way ANOVA:\")\n",
    "print(f\"F-statistic: {f_statistic:.4f}\")\n",
    "print(f\"P-value: {p_value:.4f}\")\n",
    "\n",
    "# Check if the results are significant (using a common alpha level of 0.05)\n",
    "if p_value < 0.05:\n",
    "    print(\"The difference in daily sales between the three stores is statistically significant.\")\n",
    "    \n",
    "    # Perform post-hoc test (Tukey's HSD)\n",
    "    posthoc_result = pairwise_tukeyhsd(all_sales, group_labels)\n",
    "\n",
    "    # Print post-hoc results\n",
    "    print(\"\\nPost-Hoc (Tukey's HSD) Test:\")\n",
    "    print(posthoc_result)\n",
    "else:\n",
    "    print(\"There is no significant difference in daily sales between the three stores.\")\n"
   ]
  },
  {
   "cell_type": "code",
   "execution_count": null,
   "id": "814a4a78",
   "metadata": {},
   "outputs": [],
   "source": []
  },
  {
   "cell_type": "code",
   "execution_count": null,
   "id": "7d0abc2f",
   "metadata": {},
   "outputs": [],
   "source": []
  }
 ],
 "metadata": {
  "kernelspec": {
   "display_name": "Python 3 (ipykernel)",
   "language": "python",
   "name": "python3"
  },
  "language_info": {
   "codemirror_mode": {
    "name": "ipython",
    "version": 3
   },
   "file_extension": ".py",
   "mimetype": "text/x-python",
   "name": "python",
   "nbconvert_exporter": "python",
   "pygments_lexer": "ipython3",
   "version": "3.9.13"
  }
 },
 "nbformat": 4,
 "nbformat_minor": 5
}
